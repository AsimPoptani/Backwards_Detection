{
 "metadata": {
  "language_info": {
   "codemirror_mode": {
    "name": "ipython",
    "version": 3
   },
   "file_extension": ".py",
   "mimetype": "text/x-python",
   "name": "python",
   "nbconvert_exporter": "python",
   "pygments_lexer": "ipython3",
   "version": "3.8.3-final"
  },
  "orig_nbformat": 2,
  "kernelspec": {
   "name": "python3",
   "display_name": "Python 3.8.3 64-bit ('venv')",
   "metadata": {
    "interpreter": {
     "hash": "10f1e1fd75c27a141a87cb3016ddd46fdf80c31e96a8b17ff8040b8e0249e7ce"
    }
   }
  }
 },
 "nbformat": 4,
 "nbformat_minor": 2,
 "cells": [
  {
   "cell_type": "code",
   "execution_count": 1,
   "metadata": {},
   "outputs": [],
   "source": [
    "import os\n",
    "import tensorflow as tf\n",
    "import numpy as np\n",
    "import pandas as pd\n",
    "import math"
   ]
  },
  {
   "cell_type": "code",
   "execution_count": 2,
   "metadata": {},
   "outputs": [],
   "source": [
    "from utils import movie_images_to_dict"
   ]
  },
  {
   "cell_type": "code",
   "execution_count": 3,
   "metadata": {},
   "outputs": [],
   "source": [
    "trainning_folder=\"trainning_images\"\n",
    "test_folder=\"\""
   ]
  },
  {
   "cell_type": "code",
   "execution_count": 4,
   "metadata": {},
   "outputs": [],
   "source": [
    "trainning_data_set=[]\n",
    "test_data_set=[]\n",
    "# Loop through trainning images\n",
    "for index in range(3):\n",
    "    trainning_data_set.append(pd.DataFrame(movie_images_to_dict.get_images_to_dict(f'/media/Data/backwards_detection/trainning_images/{index}/')).to_numpy())\n",
    "# Loop through test images\n",
    "for index in range(1):\n",
    "    test_data_set.append(pd.DataFrame(movie_images_to_dict.get_images_to_dict(f'/media/Data/backwards_detection/test_images/{index}/')).to_numpy())"
   ]
  },
  {
   "cell_type": "code",
   "execution_count": 5,
   "metadata": {},
   "outputs": [
    {
     "output_type": "execute_result",
     "data": {
      "text/plain": [
       "                   0                                               1    2  \\\n",
       "0       00000001.png  /media/Data/backwards_detection/test_images/0/  800   \n",
       "1       00000002.png  /media/Data/backwards_detection/test_images/0/  800   \n",
       "2       00000003.png  /media/Data/backwards_detection/test_images/0/  800   \n",
       "3       00000004.png  /media/Data/backwards_detection/test_images/0/  800   \n",
       "4       00000005.png  /media/Data/backwards_detection/test_images/0/  800   \n",
       "...              ...                                             ...  ...   \n",
       "149727  00149728.png  /media/Data/backwards_detection/test_images/0/  800   \n",
       "149728  00149729.png  /media/Data/backwards_detection/test_images/0/  800   \n",
       "149729  00149730.png  /media/Data/backwards_detection/test_images/0/  800   \n",
       "149730  00149731.png  /media/Data/backwards_detection/test_images/0/  800   \n",
       "149731  00149732.png  /media/Data/backwards_detection/test_images/0/  800   \n",
       "\n",
       "           3  \n",
       "0       1280  \n",
       "1       1280  \n",
       "2       1280  \n",
       "3       1280  \n",
       "4       1280  \n",
       "...      ...  \n",
       "149727  1280  \n",
       "149728  1280  \n",
       "149729  1280  \n",
       "149730  1280  \n",
       "149731  1280  \n",
       "\n",
       "[149732 rows x 4 columns]"
      ],
      "text/html": "<div>\n<style scoped>\n    .dataframe tbody tr th:only-of-type {\n        vertical-align: middle;\n    }\n\n    .dataframe tbody tr th {\n        vertical-align: top;\n    }\n\n    .dataframe thead th {\n        text-align: right;\n    }\n</style>\n<table border=\"1\" class=\"dataframe\">\n  <thead>\n    <tr style=\"text-align: right;\">\n      <th></th>\n      <th>0</th>\n      <th>1</th>\n      <th>2</th>\n      <th>3</th>\n    </tr>\n  </thead>\n  <tbody>\n    <tr>\n      <th>0</th>\n      <td>00000001.png</td>\n      <td>/media/Data/backwards_detection/test_images/0/</td>\n      <td>800</td>\n      <td>1280</td>\n    </tr>\n    <tr>\n      <th>1</th>\n      <td>00000002.png</td>\n      <td>/media/Data/backwards_detection/test_images/0/</td>\n      <td>800</td>\n      <td>1280</td>\n    </tr>\n    <tr>\n      <th>2</th>\n      <td>00000003.png</td>\n      <td>/media/Data/backwards_detection/test_images/0/</td>\n      <td>800</td>\n      <td>1280</td>\n    </tr>\n    <tr>\n      <th>3</th>\n      <td>00000004.png</td>\n      <td>/media/Data/backwards_detection/test_images/0/</td>\n      <td>800</td>\n      <td>1280</td>\n    </tr>\n    <tr>\n      <th>4</th>\n      <td>00000005.png</td>\n      <td>/media/Data/backwards_detection/test_images/0/</td>\n      <td>800</td>\n      <td>1280</td>\n    </tr>\n    <tr>\n      <th>...</th>\n      <td>...</td>\n      <td>...</td>\n      <td>...</td>\n      <td>...</td>\n    </tr>\n    <tr>\n      <th>149727</th>\n      <td>00149728.png</td>\n      <td>/media/Data/backwards_detection/test_images/0/</td>\n      <td>800</td>\n      <td>1280</td>\n    </tr>\n    <tr>\n      <th>149728</th>\n      <td>00149729.png</td>\n      <td>/media/Data/backwards_detection/test_images/0/</td>\n      <td>800</td>\n      <td>1280</td>\n    </tr>\n    <tr>\n      <th>149729</th>\n      <td>00149730.png</td>\n      <td>/media/Data/backwards_detection/test_images/0/</td>\n      <td>800</td>\n      <td>1280</td>\n    </tr>\n    <tr>\n      <th>149730</th>\n      <td>00149731.png</td>\n      <td>/media/Data/backwards_detection/test_images/0/</td>\n      <td>800</td>\n      <td>1280</td>\n    </tr>\n    <tr>\n      <th>149731</th>\n      <td>00149732.png</td>\n      <td>/media/Data/backwards_detection/test_images/0/</td>\n      <td>800</td>\n      <td>1280</td>\n    </tr>\n  </tbody>\n</table>\n<p>149732 rows × 4 columns</p>\n</div>"
     },
     "metadata": {},
     "execution_count": 5
    }
   ],
   "source": [
    "pd.DataFrame(test_data_set[0])"
   ]
  },
  {
   "cell_type": "code",
   "execution_count": 6,
   "metadata": {},
   "outputs": [],
   "source": [
    "from typing import List, Tuple, Union\n",
    "def shape(ndarray: Union[List, float]) -> Tuple[int, ...]:\n",
    "    if isinstance(ndarray, list):\n",
    "        # More dimensions, so make a recursive call\n",
    "        outermost_size = len(ndarray)\n",
    "        row_shape = shape(ndarray[0])\n",
    "        return (outermost_size, *row_shape)\n",
    "    else:\n",
    "        # No more dimensions, so we're done\n",
    "        return ()\n"
   ]
  },
  {
   "cell_type": "code",
   "execution_count": 7,
   "metadata": {},
   "outputs": [],
   "source": [
    "# conversion methods \n",
    "# will generate a array of x frames\n",
    "def every_x_frame(data,x=5):\n",
    "    size=data.shape[0]\n",
    "    left_over=size%x\n",
    "    n_times=math.floor(size/x)\n",
    "    data=data[:-left_over,:]\n",
    "    split=np.split(data,n_times)\n",
    "    return split\n",
    "\n",
    "def negative_frames(data,x):\n",
    "    data_to_be_shuffled=data.copy()\n",
    "    \n",
    "    np.random.shuffle(data_to_be_shuffled)\n",
    "    random=every_x_frame(data_to_be_shuffled,x)\n",
    "    flip=every_x_frame(np.flip(data,axis=0),x)\n",
    "    return flip+random\n",
    "\n",
    "# generates positive and negative tests for x frames\n",
    "def gen_every_x_frames(data,x=5):\n",
    "    data=data.copy()\n",
    "    positive=every_x_frame(data,x)\n",
    "    negative=negative_frames(data,x)\n",
    "    return {\"pos\":positive, \"neg\":negative}\n",
    "\n",
    "# generates positive and negative tests for x frames\n",
    "def gen_every_x_frames_skip(data,step=2,x=5):\n",
    "    data=data.copy()\n",
    "    data=data[::step]\n",
    "    return gen_every_x_frames(data,x)"
   ]
  },
  {
   "cell_type": "code",
   "execution_count": 9,
   "metadata": {
    "tags": []
   },
   "outputs": [
    {
     "output_type": "execute_result",
     "data": {
      "text/plain": [
       "                                                       0\n",
       "0      [[00138375.png, /media/Data/backwards_detectio...\n",
       "1      [[00138365.png, /media/Data/backwards_detectio...\n",
       "2      [[00138355.png, /media/Data/backwards_detectio...\n",
       "3      [[00138345.png, /media/Data/backwards_detectio...\n",
       "4      [[00138335.png, /media/Data/backwards_detectio...\n",
       "...                                                  ...\n",
       "27669  [[00108565.png, /media/Data/backwards_detectio...\n",
       "27670  [[00132885.png, /media/Data/backwards_detectio...\n",
       "27671  [[00021037.png, /media/Data/backwards_detectio...\n",
       "27672  [[00138337.png, /media/Data/backwards_detectio...\n",
       "27673  [[00069115.png, /media/Data/backwards_detectio...\n",
       "\n",
       "[27674 rows x 1 columns]"
      ],
      "text/html": "<div>\n<style scoped>\n    .dataframe tbody tr th:only-of-type {\n        vertical-align: middle;\n    }\n\n    .dataframe tbody tr th {\n        vertical-align: top;\n    }\n\n    .dataframe thead th {\n        text-align: right;\n    }\n</style>\n<table border=\"1\" class=\"dataframe\">\n  <thead>\n    <tr style=\"text-align: right;\">\n      <th></th>\n      <th>0</th>\n    </tr>\n  </thead>\n  <tbody>\n    <tr>\n      <th>0</th>\n      <td>[[00138375.png, /media/Data/backwards_detectio...</td>\n    </tr>\n    <tr>\n      <th>1</th>\n      <td>[[00138365.png, /media/Data/backwards_detectio...</td>\n    </tr>\n    <tr>\n      <th>2</th>\n      <td>[[00138355.png, /media/Data/backwards_detectio...</td>\n    </tr>\n    <tr>\n      <th>3</th>\n      <td>[[00138345.png, /media/Data/backwards_detectio...</td>\n    </tr>\n    <tr>\n      <th>4</th>\n      <td>[[00138335.png, /media/Data/backwards_detectio...</td>\n    </tr>\n    <tr>\n      <th>...</th>\n      <td>...</td>\n    </tr>\n    <tr>\n      <th>27669</th>\n      <td>[[00108565.png, /media/Data/backwards_detectio...</td>\n    </tr>\n    <tr>\n      <th>27670</th>\n      <td>[[00132885.png, /media/Data/backwards_detectio...</td>\n    </tr>\n    <tr>\n      <th>27671</th>\n      <td>[[00021037.png, /media/Data/backwards_detectio...</td>\n    </tr>\n    <tr>\n      <th>27672</th>\n      <td>[[00138337.png, /media/Data/backwards_detectio...</td>\n    </tr>\n    <tr>\n      <th>27673</th>\n      <td>[[00069115.png, /media/Data/backwards_detectio...</td>\n    </tr>\n  </tbody>\n</table>\n<p>27674 rows × 1 columns</p>\n</div>"
     },
     "metadata": {},
     "execution_count": 9
    }
   ],
   "source": [
    "def trainning_dataset():\n",
    "    dataset=[]\n",
    "    for trainning in trainning_data_set:\n",
    "        # generate cases for 5 images and a skip of 2\n",
    "        dataset.append(gen_every_x_frames_skip(trainning))\n",
    "    return dataset\n",
    "pd.DataFrame(trainning_dataset()[0][\"neg\"])"
   ]
  }
 ]
}